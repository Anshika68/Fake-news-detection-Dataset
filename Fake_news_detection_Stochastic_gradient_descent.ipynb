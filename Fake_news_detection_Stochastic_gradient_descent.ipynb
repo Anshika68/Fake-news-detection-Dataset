{
  "nbformat": 4,
  "nbformat_minor": 0,
  "metadata": {
    "colab": {
      "name": "Fake news detection - Stochastic gradient descent.ipynb",
      "provenance": [],
      "collapsed_sections": []
    },
    "kernelspec": {
      "name": "python3",
      "display_name": "Python 3"
    },
    "language_info": {
      "name": "python"
    }
  },
  "cells": [
    {
      "cell_type": "code",
      "metadata": {
        "id": "IZCebxqHDOfv"
      },
      "source": [
        "from wordcloud import WordCloud, STOPWORDS\n",
        "import pandas as pd\n",
        "import numpy as np\n",
        "from sklearn import metrics\n",
        "from sklearn.model_selection import train_test_split\n",
        "from sklearn.metrics import confusion_matrix\n",
        "import re\n",
        "import string\n",
        "import matplotlib.pyplot as plt\n",
        "import seaborn as sns\n",
        "%matplotlib inline\n",
        "import os\n",
        "import nltk\n",
        "from nltk.corpus import stopwords\n",
        "from sklearn.linear_model import PassiveAggressiveClassifier\n",
        "from sklearn.feature_extraction.text import CountVectorizer, TfidfTransformer, TfidfVectorizer\n",
        "from sklearn.metrics import plot_confusion_matrix\n",
        "from sklearn.metrics import confusion_matrix\n",
        "from sklearn.metrics import classification_report, accuracy_score\n",
        "from sklearn.metrics import accuracy_score, f1_score, precision_score, recall_score\n",
        "from sklearn.model_selection import cross_val_score\n",
        "import itertools"
      ],
      "execution_count": null,
      "outputs": []
    },
    {
      "cell_type": "code",
      "metadata": {
        "colab": {
          "base_uri": "https://localhost:8080/",
          "height": 204
        },
        "id": "0VJlD7agEdrE",
        "outputId": "b2f8dcb5-b5b6-42fb-f002-421261a88598"
      },
      "source": [
        "df = pd.read_csv(\"/content/drive/MyDrive/research/data.csv\")\n",
        "df.head()"
      ],
      "execution_count": null,
      "outputs": [
        {
          "output_type": "execute_result",
          "data": {
            "text/html": [
              "<div>\n",
              "<style scoped>\n",
              "    .dataframe tbody tr th:only-of-type {\n",
              "        vertical-align: middle;\n",
              "    }\n",
              "\n",
              "    .dataframe tbody tr th {\n",
              "        vertical-align: top;\n",
              "    }\n",
              "\n",
              "    .dataframe thead th {\n",
              "        text-align: right;\n",
              "    }\n",
              "</style>\n",
              "<table border=\"1\" class=\"dataframe\">\n",
              "  <thead>\n",
              "    <tr style=\"text-align: right;\">\n",
              "      <th></th>\n",
              "      <th>headlines</th>\n",
              "      <th>outcome</th>\n",
              "    </tr>\n",
              "  </thead>\n",
              "  <tbody>\n",
              "    <tr>\n",
              "      <th>0</th>\n",
              "      <td>A post claims compulsory vacination violates t...</td>\n",
              "      <td>0</td>\n",
              "    </tr>\n",
              "    <tr>\n",
              "      <th>1</th>\n",
              "      <td>A photo claims that this person is a doctor wh...</td>\n",
              "      <td>0</td>\n",
              "    </tr>\n",
              "    <tr>\n",
              "      <th>2</th>\n",
              "      <td>Post about a video claims that it is a protest...</td>\n",
              "      <td>0</td>\n",
              "    </tr>\n",
              "    <tr>\n",
              "      <th>3</th>\n",
              "      <td>All deaths by respiratory failure and pneumoni...</td>\n",
              "      <td>0</td>\n",
              "    </tr>\n",
              "    <tr>\n",
              "      <th>4</th>\n",
              "      <td>The dean of the College of Biologists of Euska...</td>\n",
              "      <td>0</td>\n",
              "    </tr>\n",
              "  </tbody>\n",
              "</table>\n",
              "</div>"
            ],
            "text/plain": [
              "                                           headlines  outcome\n",
              "0  A post claims compulsory vacination violates t...        0\n",
              "1  A photo claims that this person is a doctor wh...        0\n",
              "2  Post about a video claims that it is a protest...        0\n",
              "3  All deaths by respiratory failure and pneumoni...        0\n",
              "4  The dean of the College of Biologists of Euska...        0"
            ]
          },
          "metadata": {},
          "execution_count": 2
        }
      ]
    },
    {
      "cell_type": "code",
      "metadata": {
        "colab": {
          "base_uri": "https://localhost:8080/"
        },
        "id": "WgfexYHCEixx",
        "outputId": "21fa2a0b-02b4-4cb3-d323-bc959432f227"
      },
      "source": [
        "df.info()"
      ],
      "execution_count": null,
      "outputs": [
        {
          "output_type": "stream",
          "text": [
            "<class 'pandas.core.frame.DataFrame'>\n",
            "RangeIndex: 10201 entries, 0 to 10200\n",
            "Data columns (total 2 columns):\n",
            " #   Column     Non-Null Count  Dtype \n",
            "---  ------     --------------  ----- \n",
            " 0   headlines  10201 non-null  object\n",
            " 1   outcome    10201 non-null  int64 \n",
            "dtypes: int64(1), object(1)\n",
            "memory usage: 159.5+ KB\n"
          ],
          "name": "stdout"
        }
      ]
    },
    {
      "cell_type": "code",
      "metadata": {
        "id": "IecRE_DVElZ8"
      },
      "source": [
        "df1 = df[df['outcome'] == 1]\n",
        "df1.to_csv(f'true.csv', index=False)\n",
        "true = pd.read_csv(\"true.csv\")\n",
        "\n",
        "df1 = df[df['outcome'] == 0]\n",
        "df1.to_csv(f'fake.csv', index=False)\n",
        "fake = pd.read_csv(\"fake.csv\")"
      ],
      "execution_count": null,
      "outputs": []
    },
    {
      "cell_type": "code",
      "metadata": {
        "colab": {
          "base_uri": "https://localhost:8080/",
          "height": 204
        },
        "id": "1jzv2kxJEslI",
        "outputId": "bbe07a78-0c44-4dbc-fea0-33e875990a4b"
      },
      "source": [
        "true.head()"
      ],
      "execution_count": null,
      "outputs": [
        {
          "output_type": "execute_result",
          "data": {
            "text/html": [
              "<div>\n",
              "<style scoped>\n",
              "    .dataframe tbody tr th:only-of-type {\n",
              "        vertical-align: middle;\n",
              "    }\n",
              "\n",
              "    .dataframe tbody tr th {\n",
              "        vertical-align: top;\n",
              "    }\n",
              "\n",
              "    .dataframe thead th {\n",
              "        text-align: right;\n",
              "    }\n",
              "</style>\n",
              "<table border=\"1\" class=\"dataframe\">\n",
              "  <thead>\n",
              "    <tr style=\"text-align: right;\">\n",
              "      <th></th>\n",
              "      <th>headlines</th>\n",
              "      <th>outcome</th>\n",
              "    </tr>\n",
              "  </thead>\n",
              "  <tbody>\n",
              "    <tr>\n",
              "      <th>0</th>\n",
              "      <td>“3.8% of Wisconsin’s coronavirus funding has b...</td>\n",
              "      <td>1</td>\n",
              "    </tr>\n",
              "    <tr>\n",
              "      <th>1</th>\n",
              "      <td>There’s a “direct correlation” between North C...</td>\n",
              "      <td>1</td>\n",
              "    </tr>\n",
              "    <tr>\n",
              "      <th>2</th>\n",
              "      <td>“There have been five randomized controlled, p...</td>\n",
              "      <td>1</td>\n",
              "    </tr>\n",
              "    <tr>\n",
              "      <th>3</th>\n",
              "      <td>“Five veterinary labs have their CLIA certific...</td>\n",
              "      <td>1</td>\n",
              "    </tr>\n",
              "    <tr>\n",
              "      <th>4</th>\n",
              "      <td>Say Wisconsin Republican lawmakers have done n...</td>\n",
              "      <td>1</td>\n",
              "    </tr>\n",
              "  </tbody>\n",
              "</table>\n",
              "</div>"
            ],
            "text/plain": [
              "                                           headlines  outcome\n",
              "0  “3.8% of Wisconsin’s coronavirus funding has b...        1\n",
              "1  There’s a “direct correlation” between North C...        1\n",
              "2  “There have been five randomized controlled, p...        1\n",
              "3  “Five veterinary labs have their CLIA certific...        1\n",
              "4  Say Wisconsin Republican lawmakers have done n...        1"
            ]
          },
          "metadata": {},
          "execution_count": 5
        }
      ]
    },
    {
      "cell_type": "code",
      "metadata": {
        "colab": {
          "base_uri": "https://localhost:8080/",
          "height": 204
        },
        "id": "OuMw0E1JEv4T",
        "outputId": "55a7fada-6288-4d65-b103-397630b637fe"
      },
      "source": [
        "fake.head()"
      ],
      "execution_count": null,
      "outputs": [
        {
          "output_type": "execute_result",
          "data": {
            "text/html": [
              "<div>\n",
              "<style scoped>\n",
              "    .dataframe tbody tr th:only-of-type {\n",
              "        vertical-align: middle;\n",
              "    }\n",
              "\n",
              "    .dataframe tbody tr th {\n",
              "        vertical-align: top;\n",
              "    }\n",
              "\n",
              "    .dataframe thead th {\n",
              "        text-align: right;\n",
              "    }\n",
              "</style>\n",
              "<table border=\"1\" class=\"dataframe\">\n",
              "  <thead>\n",
              "    <tr style=\"text-align: right;\">\n",
              "      <th></th>\n",
              "      <th>headlines</th>\n",
              "      <th>outcome</th>\n",
              "    </tr>\n",
              "  </thead>\n",
              "  <tbody>\n",
              "    <tr>\n",
              "      <th>0</th>\n",
              "      <td>A post claims compulsory vacination violates t...</td>\n",
              "      <td>0</td>\n",
              "    </tr>\n",
              "    <tr>\n",
              "      <th>1</th>\n",
              "      <td>A photo claims that this person is a doctor wh...</td>\n",
              "      <td>0</td>\n",
              "    </tr>\n",
              "    <tr>\n",
              "      <th>2</th>\n",
              "      <td>Post about a video claims that it is a protest...</td>\n",
              "      <td>0</td>\n",
              "    </tr>\n",
              "    <tr>\n",
              "      <th>3</th>\n",
              "      <td>All deaths by respiratory failure and pneumoni...</td>\n",
              "      <td>0</td>\n",
              "    </tr>\n",
              "    <tr>\n",
              "      <th>4</th>\n",
              "      <td>The dean of the College of Biologists of Euska...</td>\n",
              "      <td>0</td>\n",
              "    </tr>\n",
              "  </tbody>\n",
              "</table>\n",
              "</div>"
            ],
            "text/plain": [
              "                                           headlines  outcome\n",
              "0  A post claims compulsory vacination violates t...        0\n",
              "1  A photo claims that this person is a doctor wh...        0\n",
              "2  Post about a video claims that it is a protest...        0\n",
              "3  All deaths by respiratory failure and pneumoni...        0\n",
              "4  The dean of the College of Biologists of Euska...        0"
            ]
          },
          "metadata": {},
          "execution_count": 6
        }
      ]
    },
    {
      "cell_type": "code",
      "metadata": {
        "id": "kJPT1WwFEzcr"
      },
      "source": [
        "fake['target'] = 'fake'\n",
        "true['target'] = 'true'"
      ],
      "execution_count": null,
      "outputs": []
    },
    {
      "cell_type": "code",
      "metadata": {
        "id": "zEoq9CWBE1MF"
      },
      "source": [
        "data = pd.concat([fake, true]).reset_index(drop = True)"
      ],
      "execution_count": null,
      "outputs": []
    },
    {
      "cell_type": "code",
      "metadata": {
        "id": "IoDjsf8iE30L"
      },
      "source": [
        "from sklearn.utils import shuffle\n",
        "data = shuffle(data)\n",
        "data = data.reset_index(drop=True)"
      ],
      "execution_count": null,
      "outputs": []
    },
    {
      "cell_type": "code",
      "metadata": {
        "id": "R9ROwXaIE5s4"
      },
      "source": [
        "data['headlines'] = data['headlines'].apply(lambda x: x.lower())"
      ],
      "execution_count": null,
      "outputs": []
    },
    {
      "cell_type": "code",
      "metadata": {
        "id": "jFbM11rCFAs4"
      },
      "source": [
        "import string\n",
        "def punctuation_removal(text):\n",
        "    all_list = [char for char in text if char not in string.punctuation]\n",
        "    clean_str = ''.join(all_list)\n",
        "    return clean_str\n",
        "data['headlines'] = data['headlines'].apply(punctuation_removal)"
      ],
      "execution_count": null,
      "outputs": []
    },
    {
      "cell_type": "code",
      "metadata": {
        "colab": {
          "base_uri": "https://localhost:8080/"
        },
        "id": "hrVxTWYFFHWG",
        "outputId": "7379719c-96ab-40f0-8520-c663a9f2abcc"
      },
      "source": [
        "import nltk\n",
        "nltk.download('stopwords')\n",
        "from nltk.corpus import stopwords\n",
        "stop = stopwords.words('english')\n",
        "data['headlines'] = data['headlines'].apply(lambda x: ' '.join([word for word in x.split() if word not in (stop)]))"
      ],
      "execution_count": null,
      "outputs": [
        {
          "output_type": "stream",
          "text": [
            "[nltk_data] Downloading package stopwords to /root/nltk_data...\n",
            "[nltk_data]   Unzipping corpora/stopwords.zip.\n"
          ],
          "name": "stdout"
        }
      ]
    },
    {
      "cell_type": "code",
      "metadata": {
        "colab": {
          "base_uri": "https://localhost:8080/",
          "height": 359
        },
        "id": "dQdGepUwFPIJ",
        "outputId": "1b4ebe96-7b78-480a-b23f-34a0eb84ad8c"
      },
      "source": [
        "print(data.groupby(['target'])['headlines'].count())\n",
        "data.groupby(['target'])['headlines'].count().plot(kind=\"bar\")\n",
        "plt.savefig(\"total fake and real news1.jpg\")\n",
        "plt.show()"
      ],
      "execution_count": null,
      "outputs": [
        {
          "output_type": "stream",
          "text": [
            "target\n",
            "fake    9727\n",
            "true     474\n",
            "Name: headlines, dtype: int64\n"
          ],
          "name": "stdout"
        },
        {
          "output_type": "display_data",
          "data": {
            "image/png": "[encoded data removed]",
            "text/plain": [
              "<Figure size 432x288 with 1 Axes>"
            ]
          },
          "metadata": {
            "needs_background": "light"
          }
        }
      ]
    },
    {
      "cell_type": "code",
      "metadata": {
        "id": "9Wej6WwVFVQ8"
      },
      "source": [
        "from nltk import tokenize\n",
        "token_space = tokenize.WhitespaceTokenizer()\n",
        "def counter(text, column_text, quantity):\n",
        "    all_words = ' '.join([text for text in text[column_text]])\n",
        "    token_phrase = token_space.tokenize(all_words)\n",
        "    frequency = nltk.FreqDist(token_phrase)\n",
        "    df_frequency = pd.DataFrame({\"Word\": list(frequency.keys()),\n",
        "    \"Frequency\": list(frequency.values())})\n",
        "    df_frequency = df_frequency.nlargest(columns = \"Frequency\", n = quantity)\n",
        "    plt.figure(figsize=(12,8))\n",
        "    ax = sns.barplot(data = df_frequency, x = \"Word\", y = \"Frequency\", color = 'blue')\n",
        "    ax.set(ylabel = \"Count\")\n",
        "    plt.xticks(rotation='vertical')\n",
        "    plt.savefig(\"counter.jpg\")\n",
        "    plt.show()"
      ],
      "execution_count": null,
      "outputs": []
    },
    {
      "cell_type": "code",
      "metadata": {
        "id": "JYDFujizFaL1"
      },
      "source": [
        "X_train,X_test,y_train,y_test = train_test_split(data['headlines'], data.target, test_size=0.2, random_state=42)"
      ],
      "execution_count": null,
      "outputs": []
    },
    {
      "cell_type": "code",
      "metadata": {
        "id": "jcONI5I_FcLG"
      },
      "source": [
        "def print_metrices(pred,true):\n",
        "    print(confusion_matrix(true,pred))\n",
        "    print(classification_report(true,pred,))\n",
        "    print(\"Accuracy : \",accuracy_score(pred,true))\n",
        "    print(\"Precison : \",precision_score(pred,true, average = 'weighted'))\n",
        "    print(\"Recall : \",recall_score(pred,true, average = 'weighted'))\n",
        "    print(\"F1 : \",f1_score(pred,true, average = 'weighted'))"
      ],
      "execution_count": null,
      "outputs": []
    },
    {
      "cell_type": "code",
      "metadata": {
        "colab": {
          "base_uri": "https://localhost:8080/"
        },
        "id": "6kskZlILFiqr",
        "outputId": "31a75b47-887c-4498-c6ed-e8987599d0c1"
      },
      "source": [
        "from sklearn.metrics import accuracy_score\n",
        "# Vectorizing and applying TF-IDF\n",
        "from sklearn.pipeline import Pipeline\n",
        "from sklearn import linear_model\n",
        "from sklearn.feature_extraction.text import TfidfTransformer\n",
        "from sklearn.feature_extraction.text import CountVectorizer\n",
        "from sklearn.feature_extraction.text import TfidfVectorizer\n",
        "from sklearn.linear_model import SGDClassifier\n",
        "pipe = Pipeline([('vect', CountVectorizer()),\n",
        "('tfidf', TfidfTransformer()),\n",
        "('model', SGDClassifier())])\n",
        "\n",
        "# Fitting the model\n",
        "model = pipe.fit(X_train, y_train)\n",
        "# Accuracy\n",
        "pred = model.predict(X_test)\n",
        "print_metrices(pred,y_test)\n",
        "#print(\"accuracy: {}%\".format(round(accuracy_score(y_test, prediction)*100,2)))"
      ],
      "execution_count": null,
      "outputs": [
        {
          "output_type": "stream",
          "text": [
            "[[1937    1]\n",
            " [  58   45]]\n",
            "              precision    recall  f1-score   support\n",
            "\n",
            "        fake       0.97      1.00      0.98      1938\n",
            "        true       0.98      0.44      0.60       103\n",
            "\n",
            "    accuracy                           0.97      2041\n",
            "   macro avg       0.97      0.72      0.79      2041\n",
            "weighted avg       0.97      0.97      0.97      2041\n",
            "\n",
            "Accuracy :  0.9710926016658501\n",
            "Precison :  0.9868043486594488\n",
            "Recall :  0.9710926016658501\n",
            "F1 :  0.976412395231477\n"
          ],
          "name": "stdout"
        }
      ]
    },
    {
      "cell_type": "code",
      "metadata": {
        "id": "N4tMLIWbFmci"
      },
      "source": [
        ""
      ],
      "execution_count": null,
      "outputs": []
    }
  ]
}